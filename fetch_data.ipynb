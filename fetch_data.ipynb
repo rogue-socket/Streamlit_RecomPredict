{
 "cells": [
  {
   "cell_type": "code",
   "id": "initial_id",
   "metadata": {
    "collapsed": true,
    "ExecuteTime": {
     "end_time": "2024-08-11T06:06:35.288458Z",
     "start_time": "2024-08-11T06:06:30.439368Z"
    }
   },
   "source": [
    "from langchain_experimental.agents.agent_toolkits import create_csv_agent\n",
    "import dotenv\n",
    "import os\n",
    "\n",
    "from langchain_google_vertexai import ChatVertexAI\n",
    "\n",
    "\n",
    "dotenv.load_dotenv()\n",
    "model = ChatVertexAI(model=\"gemini-1.5-flash\")\n",
    "\n",
    "agent_executor = create_csv_agent(\n",
    "    model,\n",
    "    \"failure_predictions_1.csv\",\n",
    "    agent_type=\"tool-calling\",\n",
    "    verbose=True,\n",
    "    allow_dangerous_code=True\n",
    ")\n",
    "\n",
    "agent_executor.invoke(\"How many machines are in the dataset?\")"
   ],
   "outputs": [
    {
     "name": "stdout",
     "output_type": "stream",
     "text": [
      "\n",
      "\n",
      "\u001B[1m> Entering new AgentExecutor chain...\u001B[0m\n",
      "\u001B[32;1m\u001B[1;3m\u001B[0m\n",
      "\n",
      "\u001B[1m> Finished chain.\u001B[0m\n"
     ]
    },
    {
     "data": {
      "text/plain": [
       "{'input': 'How many machines are in the dataset?', 'output': ''}"
      ]
     },
     "execution_count": 18,
     "metadata": {},
     "output_type": "execute_result"
    }
   ],
   "execution_count": 18
  },
  {
   "metadata": {
    "ExecuteTime": {
     "end_time": "2024-08-11T06:38:18.501929Z",
     "start_time": "2024-08-11T06:38:16.749446Z"
    }
   },
   "cell_type": "code",
   "source": [
    "from langchain.agents.agent_types import AgentType\n",
    "from langchain_experimental.agents.agent_toolkits import create_pandas_dataframe_agent\n",
    "\n",
    "import pandas as pd\n",
    "\n",
    "df = pd.read_csv(\"./failure_predictions_1.csv\")\n",
    "agent = create_pandas_dataframe_agent(model, df, verbose=True, allow_dangerous_code=True)\n",
    "\n",
    "output = agent.invoke(\"How many machines are in the dataset?\")['output']"
   ],
   "id": "3018226ea741ca66",
   "outputs": [
    {
     "name": "stdout",
     "output_type": "stream",
     "text": [
      "\n",
      "\n",
      "\u001B[1m> Entering new AgentExecutor chain...\u001B[0m\n",
      "\u001B[32;1m\u001B[1;3mThought: I need to find the number of unique Machine Ids in the dataframe\n",
      "Action: python_repl_ast\n",
      "Action Input: print(df['Machine Id'].nunique())\u001B[0m\u001B[36;1m\u001B[1;3m50\n",
      "\u001B[0m\u001B[32;1m\u001B[1;3mThought: I now know the final answer\n",
      "Final Answer: 50 \n",
      "\u001B[0m\n",
      "\n",
      "\u001B[1m> Finished chain.\u001B[0m\n"
     ]
    }
   ],
   "execution_count": 24
  },
  {
   "metadata": {},
   "cell_type": "code",
   "outputs": [],
   "execution_count": null,
   "source": "",
   "id": "99410fc2ae8ecf23"
  }
 ],
 "metadata": {
  "kernelspec": {
   "display_name": "Python 3",
   "language": "python",
   "name": "python3"
  },
  "language_info": {
   "codemirror_mode": {
    "name": "ipython",
    "version": 2
   },
   "file_extension": ".py",
   "mimetype": "text/x-python",
   "name": "python",
   "nbconvert_exporter": "python",
   "pygments_lexer": "ipython2",
   "version": "2.7.6"
  }
 },
 "nbformat": 4,
 "nbformat_minor": 5
}
