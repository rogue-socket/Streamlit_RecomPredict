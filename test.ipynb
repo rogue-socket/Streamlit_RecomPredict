{
 "cells": [
  {
   "metadata": {
    "ExecuteTime": {
     "end_time": "2024-08-09T08:10:02.342612Z",
     "start_time": "2024-08-09T08:10:02.330447Z"
    }
   },
   "cell_type": "code",
   "source": [
    "import dotenv\n",
    "import os\n",
    "\n",
    "dotenv.load_dotenv()"
   ],
   "id": "6495e95eb97ddab5",
   "outputs": [
    {
     "data": {
      "text/plain": [
       "True"
      ]
     },
     "execution_count": 2,
     "metadata": {},
     "output_type": "execute_result"
    }
   ],
   "execution_count": 2
  },
  {
   "metadata": {
    "ExecuteTime": {
     "end_time": "2024-08-09T08:17:30.241564Z",
     "start_time": "2024-08-09T08:17:11.131304Z"
    }
   },
   "cell_type": "code",
   "source": [
    "from langchain_google_vertexai import ChatVertexAI\n",
    "\n",
    "model = ChatVertexAI(model=\"gemini-1.5-flash\")\n",
    "\n",
    "model.invoke(\"How to use AutoML\")"
   ],
   "id": "92d04c843cf67d8d",
   "outputs": [
    {
     "data": {
      "text/plain": [
       "AIMessage(content=\"## How to use AutoML: A Step-by-Step Guide\\n\\nAutoML (Automated Machine Learning) is a powerful tool that automates the machine learning process, making it easier for individuals with varying technical skills to build and deploy predictive models. Here's a step-by-step guide on how to use AutoML:\\n\\n**1. Choose an AutoML platform:** \\n\\nMany platforms offer AutoML capabilities, both free and paid. Some popular options include:\\n\\n* **Google Cloud AutoML:** Offers pre-trained models and custom model training for various tasks like image classification, object detection, and natural language processing.\\n* **Amazon SageMaker Autopilot:** Provides automated machine learning for building and deploying models with minimal coding.\\n* **Azure Machine Learning AutoML:** Offers automated feature engineering, model selection, and hyperparameter tuning for various machine learning tasks.\\n* **H2O Driverless AI:** A comprehensive platform with advanced features like automatic feature engineering and explainable AI.\\n* **DataRobot:** Provides automated machine learning for building, deploying, and monitoring predictive models.\\n\\nChoose a platform based on your needs, budget, and experience level.\\n\\n**2. Prepare your data:**\\n\\n* **Gather your data:** Collect the data relevant to your machine learning task. Ensure it's in a structured format like CSV or JSON.\\n* **Clean and preprocess your data:** Handle missing values, remove outliers, and transform categorical features.\\n* **Split your data:** Divide your data into training, validation, and test sets for model training and evaluation.\\n\\n**3. Define your machine learning task:**\\n\\n* **Choose a target variable:** Define the variable you want to predict.\\n* **Select the type of task:** Identify whether your task is classification, regression, time series forecasting, or another type.\\n\\n**4. Configure AutoML settings:**\\n\\n* **Set the algorithms to explore:** Specify the machine learning algorithms you want the platform to consider.\\n* **Define evaluation metrics:** Choose the metrics to evaluate the performance of the generated models.\\n* **Adjust hyperparameters:** Fine-tune the parameters of the selected algorithms based on your needs.\\n* **Specify time constraints:** Set a maximum time limit for model training.\\n\\n**5. Run the AutoML experiment:**\\n\\n* **Start the training process:** Submit your data and settings to the platform.\\n* **Monitor the progress:** Observe the training progress, model performance metrics, and the selected model.\\n\\n**6. Evaluate the generated models:**\\n\\n* **Analyze the performance metrics:** Evaluate the performance of the trained models on the validation and test sets.\\n* **Choose the best model:** Select the model with the best performance based on your chosen evaluation metrics.\\n\\n**7. Deploy and monitor the model:**\\n\\n* **Deploy the model:** Integrate the selected model into your application or workflow.\\n* **Monitor the model's performance:** Track the model's performance over time and retrain it if needed.\\n\\n**Tips for successful AutoML:**\\n\\n* **Start with a well-defined problem:** Clearly define your machine learning task and target variable.\\n* **Explore different algorithms:** Let the platform experiment with various algorithms to find the best fit for your data.\\n* **Experiment with hyperparameters:** Fine-tune the model's settings to optimize its performance.\\n* **Monitor and maintain your models:** Regularly evaluate and update your models to ensure they continue performing well.\\n\\n**Conclusion:**\\n\\nAutoML simplifies the machine learning process by automating tasks like feature engineering, model selection, and hyperparameter tuning. By following the steps outlined above, you can leverage AutoML to build and deploy accurate and efficient predictive models without requiring extensive machine learning expertise. Remember to experiment with different settings and analyze the generated models to ensure they meet your needs.\\n\", response_metadata={'is_blocked': False, 'safety_ratings': [{'category': 'HARM_CATEGORY_HATE_SPEECH', 'probability_label': 'NEGLIGIBLE', 'blocked': False, 'severity': 'HARM_SEVERITY_NEGLIGIBLE'}, {'category': 'HARM_CATEGORY_DANGEROUS_CONTENT', 'probability_label': 'NEGLIGIBLE', 'blocked': False, 'severity': 'HARM_SEVERITY_NEGLIGIBLE'}, {'category': 'HARM_CATEGORY_HARASSMENT', 'probability_label': 'NEGLIGIBLE', 'blocked': False, 'severity': 'HARM_SEVERITY_NEGLIGIBLE'}, {'category': 'HARM_CATEGORY_SEXUALLY_EXPLICIT', 'probability_label': 'NEGLIGIBLE', 'blocked': False, 'severity': 'HARM_SEVERITY_NEGLIGIBLE'}], 'usage_metadata': {'prompt_token_count': 5, 'candidates_token_count': 780, 'total_token_count': 785}, 'finish_reason': 'STOP'}, id='run-c904c6c9-d605-419b-957c-1cc371fa2ff5-0', usage_metadata={'input_tokens': 5, 'output_tokens': 780, 'total_tokens': 785})"
      ]
     },
     "execution_count": 3,
     "metadata": {},
     "output_type": "execute_result"
    }
   ],
   "execution_count": 3
  },
  {
   "metadata": {},
   "cell_type": "code",
   "outputs": [],
   "execution_count": null,
   "source": "",
   "id": "623496a7b987dd09"
  }
 ],
 "metadata": {
  "kernelspec": {
   "display_name": "Python 3",
   "language": "python",
   "name": "python3"
  },
  "language_info": {
   "codemirror_mode": {
    "name": "ipython",
    "version": 2
   },
   "file_extension": ".py",
   "mimetype": "text/x-python",
   "name": "python",
   "nbconvert_exporter": "python",
   "pygments_lexer": "ipython2",
   "version": "2.7.6"
  }
 },
 "nbformat": 4,
 "nbformat_minor": 5
}
